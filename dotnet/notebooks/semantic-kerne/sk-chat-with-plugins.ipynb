{
 "cells": [
  {
   "cell_type": "markdown",
   "metadata": {},
   "source": [
    "# SK Chatbot with plugins\n",
    "\n",
    "- Adding SK plugins to an SK Chatbot provides similar functionality as OpenAI function calling:\n",
    "  - During the conversation the bot will determine if it needs to call external functions, for example, to get the current weather or to get product information from a database.\n",
    "\n",
    "References:\n",
    "\n",
    "- [eShopOnAzure Demo](https://github.com/Azure-Samples/eShopOnAzure)\n",
    "- [ChatState.cs](https://github.com/Azure-Samples/eShopOnAzure/blob/main/src/WebApp/Components/Chatbot/ChatState.cs)"
   ]
  },
  {
   "cell_type": "code",
   "execution_count": null,
   "metadata": {
    "dotnet_interactive": {
     "language": "csharp"
    },
    "polyglot_notebook": {
     "kernelName": "csharp"
    }
   },
   "outputs": [],
   "source": [
    "#r \"nuget: Microsoft.SemanticKernel,1.16.0\"\n",
    "#r \"nuget: Microsoft.SemanticKernel.Connectors.OpenAI,1.16.0\"\n",
    "#r \"nuget: dotenv.net\"\n",
    "\n",
    "using System;\n",
    "using System.Text.Json;\n",
    "using System.ComponentModel;\n",
    "\n",
    "using Microsoft.SemanticKernel;\n",
    "using Microsoft.SemanticKernel.Connectors.OpenAI;\n",
    "using Microsoft.SemanticKernel.ChatCompletion;\n",
    "using dotenv.net;\n",
    "\n",
    "// Load environment variables\n",
    "DotEnv.Load();\n",
    "var azureEndpoint = Environment.GetEnvironmentVariable(\"ENDPOINT\");\n",
    "var apiKey = Environment.GetEnvironmentVariable(\"API_KEY\");\n",
    "var model = Environment.GetEnvironmentVariable(\"GPT_MODEL\");\n",
    "\n",
    "// Create SK Kernel builder\n",
    "var builder = Kernel.CreateBuilder();\n",
    "\n",
    "// Add OpenAI completion service to the kernel\n",
    "builder.AddAzureOpenAIChatCompletion(model, azureEndpoint, apiKey);\n",
    "\n",
    "// Build the kernel\n",
    "var kernel = builder.Build();\n",
    "\n",
    "// Get the chat service from the kernel\n",
    "var chatService = kernel.GetRequiredService<IChatCompletionService>();"
   ]
  },
  {
   "cell_type": "markdown",
   "metadata": {},
   "source": [
    "### Create a class with several functions and add them to the kernel"
   ]
  },
  {
   "cell_type": "code",
   "execution_count": null,
   "metadata": {},
   "outputs": [],
   "source": [
    "\n",
    "private sealed class AppPluginService\n",
    "{\n",
    "    [KernelFunction, Description(\"Gets the weather information\")]\n",
    "    public string GetWeather([Description(\"The city for which to get the weather\")] string city)\n",
    "    {\n",
    "        return $\"The temperature in {city} is 80F.\";\n",
    "    }\n",
    "    [KernelFunction, Description(\"Gets the product information\")]\n",
    "    public string ProductInfo([Description(\"The product Id number\")] int itemId)\n",
    "    {\n",
    "        return $\"Getting the product information for item {itemId} from the database\";\n",
    "    }\n",
    "}\n",
    "\n",
    "// Add the plugins to the kernel\n",
    "kernel.Plugins.AddFromObject(new AppPluginService());\n",
    "\n",
    "// Auto call the plugins\n",
    "OpenAIPromptExecutionSettings _aiSettings = new() { ToolCallBehavior = ToolCallBehavior.AutoInvokeKernelFunctions };\n"
   ]
  },
  {
   "cell_type": "code",
   "execution_count": null,
   "metadata": {},
   "outputs": [],
   "source": [
    "// Create a chat history\n",
    "ChatHistory messages = new();\n",
    "messages.AddSystemMessage(\"You are a helpful assistant. One of the things you can do is get a weather report for a city and get product information.\");"
   ]
  },
  {
   "cell_type": "code",
   "execution_count": null,
   "metadata": {},
   "outputs": [],
   "source": [
    "// Print the messages in the history\n",
    "void PrintMessages(ChatHistory messages)\n",
    "{\n",
    "    foreach (var message in messages)\n",
    "    {\n",
    "        if (!string.IsNullOrEmpty(message.Content))\n",
    "            Console.WriteLine($\"{message.Role}:\\n{message.Content}\\n\");\n",
    "    }\n",
    "}"
   ]
  },
  {
   "cell_type": "code",
   "execution_count": null,
   "metadata": {},
   "outputs": [],
   "source": [
    "// Use history trimmer to manage the LLM's context window\n",
    "ChatHistory MessageTrimmer(ChatHistory messages, bool keepSystem=true, int history=2)\n",
    "{\n",
    "    ChatHistory trimmedMessages = new();\n",
    "    var existsSystemRole = keepSystem && messages[0].Role == AuthorRole.System;\n",
    "    if (keepSystem && existsSystemRole)\n",
    "    {\n",
    "        trimmedMessages.Add(messages[0]);\n",
    "    }\n",
    "    if (messages.Count > history*2 + (existsSystemRole ? 1 : 0))\n",
    "    {\n",
    "        for (int i = messages.Count - history; i < messages.Count; i++)\n",
    "        {\n",
    "            trimmedMessages.Add(messages[i]);\n",
    "        }\n",
    "    } else\n",
    "    {\n",
    "        trimmedMessages = messages;\n",
    "    }\n",
    "    return trimmedMessages;\n",
    "}"
   ]
  },
  {
   "cell_type": "code",
   "execution_count": null,
   "metadata": {},
   "outputs": [],
   "source": [
    "// Process a user message\n",
    "async Task ProcessMessage(string input) {\n",
    "    messages.AddUserMessage(input);\n",
    "    ChatMessageContent response = await chatService.GetChatMessageContentAsync(MessageTrimmer(messages), _aiSettings, kernel);\n",
    "    if (!string.IsNullOrEmpty(response.Content))\n",
    "    {\n",
    "        messages.Add(response);\n",
    "    }\n",
    "}"
   ]
  },
  {
   "cell_type": "code",
   "execution_count": null,
   "metadata": {},
   "outputs": [],
   "source": [
    "// No function calling\n",
    "await ProcessMessage(\"What is the speed of light?\");\n",
    "PrintMessages(messages);"
   ]
  },
  {
   "cell_type": "code",
   "execution_count": null,
   "metadata": {},
   "outputs": [],
   "source": [
    "// Call the weather function\n",
    "messages.Clear();\n",
    "await ProcessMessage(\"Get the weather for Miami\");\n",
    "PrintMessages(messages);"
   ]
  },
  {
   "cell_type": "code",
   "execution_count": null,
   "metadata": {},
   "outputs": [],
   "source": [
    "// Call the product information function\n",
    "messages.Clear();\n",
    "await ProcessMessage(\"Get the product information for item 123\");\n",
    "PrintMessages(messages);"
   ]
  }
 ],
 "metadata": {
  "kernelspec": {
   "display_name": ".NET (C#)",
   "language": "C#",
   "name": ".net-csharp"
  },
  "polyglot_notebook": {
   "kernelInfo": {
    "defaultKernelName": "csharp",
    "items": [
     {
      "aliases": [],
      "languageName": "csharp",
      "name": "csharp"
     }
    ]
   }
  }
 },
 "nbformat": 4,
 "nbformat_minor": 2
}
