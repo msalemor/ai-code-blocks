{
 "cells": [
  {
   "cell_type": "code",
   "execution_count": null,
   "metadata": {
    "dotnet_interactive": {
     "language": "csharp"
    },
    "polyglot_notebook": {
     "kernelName": "csharp"
    }
   },
   "outputs": [],
   "source": [
    "#r \"nuget: OpenAI,2.0.0-beta.7\"\n",
    "#r \"nuget: dotenv.net\"\n",
    "\n",
    "using OpenAI.Chat;\n",
    "using OpenAI.Embeddings;\n",
    "using System;\n",
    "using System.Collections.Generic;\n",
    "using System.IO;\n",
    "\n",
    "using dotenv.net;\n",
    "DotEnv.Load(options: new DotEnvOptions(envFilePaths: new[] {\"../../.env\"}));\n",
    "\n",
    "string endpoint = Environment.GetEnvironmentVariable(\"ENDPOINT\");\n",
    "string key = Environment.GetEnvironmentVariable(\"API_KEY\");\n",
    "string model = Environment.GetEnvironmentVariable(\"GPT_MODEL\");\n",
    "string api_version = Environment.GetEnvironmentVariable(\"API_VERSION\") ?? \"2024-05-01-preview\";"
   ]
  },
  {
   "cell_type": "code",
   "execution_count": null,
   "metadata": {
    "dotnet_interactive": {
     "language": "csharp"
    },
    "polyglot_notebook": {
     "kernelName": "csharp"
    }
   },
   "outputs": [],
   "source": [
    "ChatClient client = new(model: model, key);\n",
    "var embeddingsClient = new(key, endpoint, api_version);"
   ]
  },
  {
   "cell_type": "code",
   "execution_count": null,
   "metadata": {
    "dotnet_interactive": {
     "language": "csharp"
    },
    "polyglot_notebook": {
     "kernelName": "csharp"
    }
   },
   "outputs": [],
   "source": [
    "BinaryData GetData(string filePath)\n",
    "{\n",
    "    string imageFilePath = Path.Combine(\"Assets\", \"images_dog_and_cat.png\");\n",
    "    using Stream imageStream = File.OpenRead(imageFilePath);\n",
    "    var imageBytes = BinaryData.FromStream(imageStream);\n",
    "    return imageBytes;\n",
    "}"
   ]
  },
  {
   "cell_type": "code",
   "execution_count": null,
   "metadata": {
    "dotnet_interactive": {
     "language": "csharp"
    },
    "polyglot_notebook": {
     "kernelName": "csharp"
    }
   },
   "outputs": [],
   "source": [
    "async Task<string> ProcessCompletion(string prompt, BinaryData? fileData, float temperature=0.1f)\n",
    "{\n",
    "    List<ChatMessage> messages = [];\n",
    "    if (fileData == null)\n",
    "    {\n",
    "        messages = [\n",
    "            new UserChatMessage(prompt)\n",
    "        ];\n",
    "        \n",
    "    } else {\n",
    "        messages = [\n",
    "            new UserChatMessage(\n",
    "                ChatMessageContentPart.CreateTextMessageContentPart(prompt))\n",
    "    ];\n",
    "    }\n",
    "\n",
    "    var opts = new ChatCompletionOptions{\n",
    "        Temperature = temperature,\n",
    "    };\n",
    "\n",
    "    ChatCompletion chatCompletion = await client.CompleteChatAsync(messages,opts);\n",
    "    return chatCompletion.Content[0].Text;\n",
    "}"
   ]
  },
  {
   "cell_type": "code",
   "execution_count": null,
   "metadata": {},
   "outputs": [],
   "source": [
    "async Task<string> ProcessEmbedding(string text)\n",
    "{\n",
    "    return await client.GenerateEmbeddingAsync(text);\n",
    "}"
   ]
  }
 ],
 "metadata": {
  "kernelspec": {
   "display_name": ".NET (C#)",
   "language": "C#",
   "name": ".net-csharp"
  },
  "polyglot_notebook": {
   "kernelInfo": {
    "defaultKernelName": "csharp",
    "items": [
     {
      "aliases": [],
      "languageName": "csharp",
      "name": "csharp"
     }
    ]
   }
  }
 },
 "nbformat": 4,
 "nbformat_minor": 2
}
