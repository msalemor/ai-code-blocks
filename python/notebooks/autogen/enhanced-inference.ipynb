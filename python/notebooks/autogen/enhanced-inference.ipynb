{
 "cells": [
  {
   "cell_type": "markdown",
   "metadata": {},
   "source": [
    "# Autogen Enhanced Inference\n",
    "\n",
    "\n",
    "From the documentation:\n",
    "\n",
    "\"autogen.OpenAIWrapper provides enhanced LLM inference for openai>=1. autogen.Completion is a drop-in replacement of openai.Completion and openai.ChatCompletion for enhanced LLM inference using openai<1. There are a number of benefits of using autogen to perform inference: performance tuning, API unification, caching, error handling, multi-config inference, result filtering, templating and so on.\" \n",
    "\n",
    "References:\n",
    "\n",
    "- [Enhanced Inference](https://microsoft.github.io/autogen/docs/Use-Cases/enhanced_inference)\n",
    "\n",
    "## Install the required packages"
   ]
  },
  {
   "cell_type": "code",
   "execution_count": null,
   "metadata": {},
   "outputs": [],
   "source": [
    "%pip install -q python-dotenv==1.0.1 openai==1.35.9 gradio==4.39.0 pyautogen==0.2.32"
   ]
  },
  {
   "cell_type": "markdown",
   "metadata": {},
   "source": [
    "## Client configuration"
   ]
  },
  {
   "cell_type": "code",
   "execution_count": null,
   "metadata": {},
   "outputs": [],
   "source": [
    "import os\n",
    "from autogen import OpenAIWrapper\n",
    "from dotenv import load_dotenv\n",
    "\n",
    "load_dotenv(\"../../.env\")\n",
    "\n",
    "model = os.getenv(\"GPT_MODEL\")\n",
    "endpoint=os.getenv(\"ENDPOINT\")\n",
    "api_key=os.getenv(\"API_KEY\")\n",
    "api_version=os.getenv(\"API_VERSION\")\n",
    "\n",
    "config_list = [\n",
    "    {\n",
    "        \"base_url\": endpoint,\n",
    "        \"api_key\": api_key,\n",
    "        \"model\": model,\n",
    "        \"api_type\": \"azure\",\n",
    "        \"api_version\": api_version\n",
    "    }\n",
    "]"
   ]
  },
  {
   "cell_type": "markdown",
   "metadata": {},
   "source": [
    "## Inference with caching"
   ]
  },
  {
   "cell_type": "code",
   "execution_count": null,
   "metadata": {},
   "outputs": [],
   "source": [
    "client : OpenAIWrapper = OpenAIWrapper(config_list=config_list)\n",
    "\n",
    "response = client.create(messages=[{\"role\": \"user\", \"content\": \"What are some Python learning tips.\"}], model=model)\n",
    "print(client.extract_text_or_completion_object(response))\n",
    "client.print_usage_summary()\n",
    "print(response.cost)\n",
    "\n",
    "response = client.create(messages=[{\"role\": \"user\", \"content\": \"What are some Python learning tips.\"}], model=model)\n",
    "print(client.extract_text_or_completion_object(response))\n",
    "client.print_usage_summary()\n",
    "print(response.cost)\n"
   ]
  },
  {
   "cell_type": "markdown",
   "metadata": {},
   "source": [
    "## Disable caching"
   ]
  },
  {
   "cell_type": "code",
   "execution_count": null,
   "metadata": {},
   "outputs": [],
   "source": [
    "client : OpenAIWrapper = OpenAIWrapper(config_list=config_list, cache_seed=None)\n",
    "response = client.create(messages=[{\"role\": \"user\", \"content\": \"Python learning tips.\"}], model=model)\n",
    "print(client.extract_text_or_completion_object(response))\n",
    "client.print_usage_summary()\n",
    "print(response.cost)"
   ]
  }
 ],
 "metadata": {
  "kernelspec": {
   "display_name": ".venv",
   "language": "python",
   "name": "python3"
  },
  "language_info": {
   "codemirror_mode": {
    "name": "ipython",
    "version": 3
   },
   "file_extension": ".py",
   "mimetype": "text/x-python",
   "name": "python",
   "nbconvert_exporter": "python",
   "pygments_lexer": "ipython3",
   "version": "3.11.9"
  }
 },
 "nbformat": 4,
 "nbformat_minor": 2
}
