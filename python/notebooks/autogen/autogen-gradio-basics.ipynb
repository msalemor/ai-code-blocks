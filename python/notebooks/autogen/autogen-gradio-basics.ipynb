{
 "cells": [
  {
   "cell_type": "markdown",
   "metadata": {},
   "source": [
    "# Gradio OpenAI Chatbot\n",
    "\n",
    "## Install the required packages"
   ]
  },
  {
   "cell_type": "code",
   "execution_count": null,
   "metadata": {},
   "outputs": [],
   "source": [
    "%pip install -q python-dotenv==1.0.1 openai==1.35.9 gradio==4.39.0 pyautogen==0.2.32"
   ]
  },
  {
   "cell_type": "markdown",
   "metadata": {},
   "source": [
    "## Import the required packages and create the Azure OpenAI client"
   ]
  },
  {
   "cell_type": "code",
   "execution_count": null,
   "metadata": {},
   "outputs": [],
   "source": [
    "import os\n",
    "from autogen import ConversableAgent\n",
    "from dotenv import load_dotenv\n",
    "\n",
    "load_dotenv(\"../../.env\")\n",
    "\n",
    "model = os.getenv(\"GPT_MODEL\")\n",
    "endpoint=os.getenv(\"ENDPOINT\")\n",
    "api_key=os.getenv(\"API_KEY\")\n",
    "api_version=os.getenv(\"API_VERSION\")"
   ]
  },
  {
   "cell_type": "markdown",
   "metadata": {},
   "source": [
    "## Config an Autogen conversable agent"
   ]
  },
  {
   "cell_type": "code",
   "execution_count": null,
   "metadata": {},
   "outputs": [],
   "source": [
    "config_list = [\n",
    "    {\n",
    "        \"base_url\": endpoint,\n",
    "        \"api_key\": api_key,\n",
    "        \"model\": model,\n",
    "        \"api_type\": \"azure\",\n",
    "        \"api_version\": api_version\n",
    "    }\n",
    "]\n",
    "\n",
    "llm_config = {\n",
    "    \"model\": model,\n",
    "    \"temperature\": 0,\n",
    "    \"config_list\": config_list,    \n",
    "    \"cache_seed\": None,\n",
    "}\n",
    "\n",
    "agent = ConversableAgent(\n",
    "    name=\"chatbot\",\n",
    "    llm_config=llm_config,\n",
    "    code_execution_config=False,  # Turn off code execution, by default it is off.\n",
    "    function_map=None,  # No registered functions, by default it is None.\n",
    "    human_input_mode=\"NEVER\",  # Never ask for human input.\n",
    ")"
   ]
  },
  {
   "cell_type": "markdown",
   "metadata": {},
   "source": [
    "## Test the agent with history"
   ]
  },
  {
   "cell_type": "code",
   "execution_count": null,
   "metadata": {},
   "outputs": [],
   "source": [
    "messages=[\n",
    "    {\"role\": \"user\",\"content\": \"List one restaurant in Miami.\"},\n",
    "    {\"role\": \"assistant\",\"content\": \"One popular restaurant in Miami is Joe's Stone Crab.\"},\n",
    "    {\"role\": \"user\",\"content\": \"Line one more.\"},\n",
    "    \n",
    "]\n",
    "reply = agent.generate_reply(messages)\n",
    "reply"
   ]
  },
  {
   "cell_type": "markdown",
   "metadata": {},
   "source": [
    "## Create the gradio chatbot and have a chat using Autogen agent"
   ]
  },
  {
   "cell_type": "code",
   "execution_count": null,
   "metadata": {},
   "outputs": [],
   "source": [
    "import gradio as gr\n",
    "\n",
    "# This could be turned into an api: @app.post(\"/api/chat\")\n",
    "def predict(message, history):\n",
    "   history_openai_format = []\n",
    "   for human, assistant in history:\n",
    "      history_openai_format.append({\"role\": \"user\", \"content\": human })\n",
    "      history_openai_format.append({\"role\": \"assistant\", \"content\":assistant})\n",
    "   history_openai_format.append({\"role\": \"user\", \"content\": message})\n",
    "   reply = agent.generate_reply(history_openai_format)\n",
    "   return reply\n",
    "\n",
    "gr.ChatInterface(predict).launch()"
   ]
  }
 ],
 "metadata": {
  "kernelspec": {
   "display_name": ".venv",
   "language": "python",
   "name": "python3"
  },
  "language_info": {
   "codemirror_mode": {
    "name": "ipython",
    "version": 3
   },
   "file_extension": ".py",
   "mimetype": "text/x-python",
   "name": "python",
   "nbconvert_exporter": "python",
   "pygments_lexer": "ipython3",
   "version": "3.11.8"
  }
 },
 "nbformat": 4,
 "nbformat_minor": 2
}
