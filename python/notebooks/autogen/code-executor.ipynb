{
 "cells": [
  {
   "cell_type": "markdown",
   "metadata": {},
   "source": [
    "# Autogen code executors\n",
    "\n",
    "From the documentation about code executors:\n",
    "\n",
    "\"In AutoGen, a code executor is a component that takes input messages (e.g., those containing code blocks), performs execution, and outputs messages with the results. AutoGen provides two types of built-in code executors, one is command line code executor, which runs code in a command line environment such as a UNIX shell, and the other is Jupyter executor, which runs code in an interactive Jupyter kernel.\"\n",
    "\n",
    "References:\n",
    "\n",
    "- [Code executors](https://microsoft.github.io/autogen/docs/tutorial/code-executors/)\n",
    "\n",
    "## Install the required packages"
   ]
  },
  {
   "cell_type": "code",
   "execution_count": null,
   "metadata": {},
   "outputs": [],
   "source": [
    "%pip install -q python-dotenv==1.0.1 openai==1.35.9 gradio==4.39.0 pyautogen==0.2.32"
   ]
  },
  {
   "cell_type": "markdown",
   "metadata": {},
   "source": [
    "## Import the required packages and create the Azure OpenAI client"
   ]
  },
  {
   "cell_type": "code",
   "execution_count": 2,
   "metadata": {},
   "outputs": [],
   "source": [
    "import os\n",
    "import pprint\n",
    "from pathlib import Path\n",
    "from autogen import ConversableAgent\n",
    "from autogen.coding import CodeBlock, LocalCommandLineCodeExecutor\n",
    "from settings import Settings\n",
    "settings = Settings()"
   ]
  },
  {
   "cell_type": "markdown",
   "metadata": {},
   "source": [
    "## Test the local code executor\n",
    "\n",
    "- The executore is capable of executing code and returning the results"
   ]
  },
  {
   "cell_type": "code",
   "execution_count": null,
   "metadata": {},
   "outputs": [],
   "source": [
    "work_dir = Path(\"coding\")\n",
    "work_dir.mkdir(exist_ok=True)\n",
    "\n",
    "executor = LocalCommandLineCodeExecutor(work_dir=work_dir)\n",
    "print(\n",
    "    executor.execute_code_blocks(\n",
    "        code_blocks=[\n",
    "            CodeBlock(language=\"python\", code=\"print('Hello Word!')\\nfor i in range(0,10,2):\\n  print(i)\"),\n",
    "        ]\n",
    "    )\n",
    ")"
   ]
  },
  {
   "cell_type": "markdown",
   "metadata": {},
   "source": [
    "## Config an Autogen conversable agent"
   ]
  },
  {
   "cell_type": "code",
   "execution_count": 4,
   "metadata": {},
   "outputs": [],
   "source": [
    "config_list = [\n",
    "    {\n",
    "        \"base_url\": settings.endpoint,\n",
    "        \"api_key\": settings.api_key,\n",
    "        \"model\": settings.model,\n",
    "        \"api_type\": \"azure\",\n",
    "        \"api_version\": settings.api_version\n",
    "    }\n",
    "]\n",
    "\n",
    "llm_config = {\n",
    "    \"model\": settings.model,\n",
    "    \"temperature\": 0,\n",
    "    \"config_list\": config_list,    \n",
    "    #\"cache_seed\": None, # Enable caching\n",
    "}\n",
    "\n",
    "agent = ConversableAgent(\n",
    "    name=\"chatbot\",\n",
    "    llm_config=llm_config,\n",
    "    code_execution_config=False,  # Turn off code execution, by default it is off.\n",
    "    function_map=None,  # No registered functions, by default it is None.\n",
    "    human_input_mode=\"NEVER\",  # Never ask for human input.\n",
    ")"
   ]
  },
  {
   "cell_type": "markdown",
   "metadata": {},
   "source": [
    "## Generate a python script to find the 1001st prime number"
   ]
  },
  {
   "cell_type": "code",
   "execution_count": null,
   "metadata": {},
   "outputs": [],
   "source": [
    "reply = agent.generate_reply(messages=[{\"role\":\"user\",\"content\":\"Write a python script to find the 1001st prime number.\"}])\n",
    "print(reply)"
   ]
  },
  {
   "cell_type": "markdown",
   "metadata": {},
   "source": [
    "## Extract the Python code, execute it, and print the result"
   ]
  },
  {
   "cell_type": "code",
   "execution_count": null,
   "metadata": {},
   "outputs": [],
   "source": [
    "# Using regex get the python code in the markdown\n",
    "import re\n",
    "code_groups = re.search(r'```python\\n(.*?)```', reply, re.DOTALL)\n",
    "\n",
    "if len(code_groups.groups()) > 0:\n",
    "    code_execution_result = executor.execute_code_blocks(\n",
    "            code_blocks=[\n",
    "                CodeBlock(language=\"python\", code=code_groups.group(1)),\n",
    "            ]\n",
    "        )\n",
    "\n",
    "    print(code_execution_result)"
   ]
  }
 ],
 "metadata": {
  "kernelspec": {
   "display_name": ".venv",
   "language": "python",
   "name": "python3"
  },
  "language_info": {
   "codemirror_mode": {
    "name": "ipython",
    "version": 3
   },
   "file_extension": ".py",
   "mimetype": "text/x-python",
   "name": "python",
   "nbconvert_exporter": "python",
   "pygments_lexer": "ipython3",
   "version": "3.11.9"
  }
 },
 "nbformat": 4,
 "nbformat_minor": 2
}
