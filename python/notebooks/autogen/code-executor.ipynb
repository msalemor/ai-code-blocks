{
 "cells": [
  {
   "cell_type": "markdown",
   "metadata": {},
   "source": [
    "# Autogen code executors\n",
    "\n",
    "From the documentation about code executors:\n",
    "\n",
    "\"In AutoGen, a code executor is a component that takes input messages (e.g., those containing code blocks), performs execution, and outputs messages with the results. AutoGen provides two types of built-in code executors, one is command line code executor, which runs code in a command line environment such as a UNIX shell, and the other is Jupyter executor, which runs code in an interactive Jupyter kernel.\"\n",
    "\n",
    "References:\n",
    "\n",
    "- [Code executors](https://microsoft.github.io/autogen/docs/tutorial/code-executors/)\n",
    "\n",
    "## Install the required packages"
   ]
  },
  {
   "cell_type": "code",
   "execution_count": null,
   "metadata": {},
   "outputs": [],
   "source": [
    "%pip install -q python-dotenv==1.0.1 openai==1.35.9 gradio==4.39.0 pyautogen==0.2.32"
   ]
  },
  {
   "cell_type": "markdown",
   "metadata": {},
   "source": [
    "## Import the required packages and create the Azure OpenAI client"
   ]
  },
  {
   "cell_type": "code",
   "execution_count": 2,
   "metadata": {},
   "outputs": [],
   "source": [
    "import os\n",
    "import pprint\n",
    "from pathlib import Path\n",
    "from autogen import ConversableAgent\n",
    "from autogen.coding import CodeBlock, LocalCommandLineCodeExecutor\n",
    "from dotenv import load_dotenv\n",
    "\n",
    "load_dotenv(\"../../.env\")\n",
    "\n",
    "model = os.getenv(\"GPT_MODEL\")\n",
    "endpoint=os.getenv(\"ENDPOINT\")\n",
    "api_key=os.getenv(\"API_KEY\")\n",
    "api_version=os.getenv(\"API_VERSION\")"
   ]
  },
  {
   "cell_type": "markdown",
   "metadata": {},
   "source": [
    "## Test the local code executor\n",
    "\n",
    "- The executore is capable of executing code and returning the results"
   ]
  },
  {
   "cell_type": "code",
   "execution_count": 3,
   "metadata": {},
   "outputs": [
    {
     "name": "stdout",
     "output_type": "stream",
     "text": [
      "exit_code=0 output='Hello Word!\\n0\\n2\\n4\\n6\\n8\\n' code_file='/home/alex/github/msalmor/ai-code-blocks/python/notebooks/autogen/coding/tmp_code_92936a0d0dd7418fea73f87db7c6ff35.py'\n"
     ]
    }
   ],
   "source": [
    "work_dir = Path(\"coding\")\n",
    "work_dir.mkdir(exist_ok=True)\n",
    "\n",
    "executor = LocalCommandLineCodeExecutor(work_dir=work_dir)\n",
    "print(\n",
    "    executor.execute_code_blocks(\n",
    "        code_blocks=[\n",
    "            CodeBlock(language=\"python\", code=\"print('Hello Word!')\\nfor i in range(0,10,2):\\n  print(i)\"),\n",
    "        ]\n",
    "    )\n",
    ")"
   ]
  },
  {
   "cell_type": "markdown",
   "metadata": {},
   "source": [
    "## Config an Autogen conversable agent"
   ]
  },
  {
   "cell_type": "code",
   "execution_count": 4,
   "metadata": {},
   "outputs": [],
   "source": [
    "config_list = [\n",
    "    {\n",
    "        \"base_url\": endpoint,\n",
    "        \"api_key\": api_key,\n",
    "        \"model\": model,\n",
    "        \"api_type\": \"azure\",\n",
    "        \"api_version\": api_version\n",
    "    }\n",
    "]\n",
    "\n",
    "llm_config = {\n",
    "    \"model\": model,\n",
    "    \"temperature\": 0,\n",
    "    \"config_list\": config_list,    \n",
    "    #\"cache_seed\": None, # Enable caching\n",
    "}\n",
    "\n",
    "agent = ConversableAgent(\n",
    "    name=\"chatbot\",\n",
    "    llm_config=llm_config,\n",
    "    code_execution_config=False,  # Turn off code execution, by default it is off.\n",
    "    function_map=None,  # No registered functions, by default it is None.\n",
    "    human_input_mode=\"NEVER\",  # Never ask for human input.\n",
    ")"
   ]
  },
  {
   "cell_type": "markdown",
   "metadata": {},
   "source": [
    "## Generate a python script to find the 1001st prime number"
   ]
  },
  {
   "cell_type": "code",
   "execution_count": 6,
   "metadata": {},
   "outputs": [
    {
     "name": "stdout",
     "output_type": "stream",
     "text": [
      "Certainly! To find the 1001st prime number, you can use a simple algorithm that checks for prime numbers and counts them until it reaches the 1001st prime. Here's a Python script to accomplish this:\n",
      "\n",
      "```python\n",
      "def is_prime(n):\n",
      "    \"\"\"Check if a number is a prime number.\"\"\"\n",
      "    if n <= 1:\n",
      "        return False\n",
      "    if n <= 3:\n",
      "        return True\n",
      "    if n % 2 == 0 or n % 3 == 0:\n",
      "        return False\n",
      "    i = 5\n",
      "    while i * i <= n:\n",
      "        if n % i == 0 or n % (i + 2) == 0:\n",
      "            return False\n",
      "        i += 6\n",
      "    return True\n",
      "\n",
      "def find_nth_prime(n):\n",
      "    \"\"\"Find the nth prime number.\"\"\"\n",
      "    count = 0\n",
      "    num = 1\n",
      "    while count < n:\n",
      "        num += 1\n",
      "        if is_prime(num):\n",
      "            count += 1\n",
      "    return num\n",
      "\n",
      "# Find the 1001st prime number\n",
      "nth_prime = 1001\n",
      "prime_number = find_nth_prime(nth_prime)\n",
      "print(f\"The {nth_prime}st prime number is: {prime_number}\")\n",
      "```\n",
      "\n",
      "This script defines two functions:\n",
      "1. `is_prime(n)`: Checks if a number `n` is prime.\n",
      "2. `find_nth_prime(n)`: Finds the `n`th prime number by iterating through numbers, checking for primality, and counting primes until the `n`th prime is found.\n",
      "\n",
      "When you run this script, it will output the 1001st prime number.\n"
     ]
    }
   ],
   "source": [
    "reply = agent.generate_reply(messages=[{\"role\":\"user\",\"content\":\"Write a pythong script to find the 1001st prime number.\"}])\n",
    "print(reply)"
   ]
  },
  {
   "cell_type": "markdown",
   "metadata": {},
   "source": [
    "## Extract the Python code, execute it, and print the result"
   ]
  },
  {
   "cell_type": "code",
   "execution_count": 9,
   "metadata": {},
   "outputs": [
    {
     "name": "stdout",
     "output_type": "stream",
     "text": [
      "exit_code=0 output='The 1001st prime number is: 7927\\n' code_file='/home/alex/github/msalmor/ai-code-blocks/python/notebooks/autogen/coding/tmp_code_8de17a467e5ed350256ec0d4ef04c063.py'\n"
     ]
    }
   ],
   "source": [
    "# Using regex get the python code in the markdown\n",
    "import re\n",
    "code_groups = re.search(r'```python\\n(.*?)```', reply, re.DOTALL)\n",
    "\n",
    "if len(code_groups.groups()) > 0:\n",
    "    code_execution_result = executor.execute_code_blocks(\n",
    "            code_blocks=[\n",
    "                CodeBlock(language=\"python\", code=code_groups.group(1)),\n",
    "            ]\n",
    "        )\n",
    "\n",
    "    print(code_execution_result)"
   ]
  }
 ],
 "metadata": {
  "kernelspec": {
   "display_name": ".venv",
   "language": "python",
   "name": "python3"
  },
  "language_info": {
   "codemirror_mode": {
    "name": "ipython",
    "version": 3
   },
   "file_extension": ".py",
   "mimetype": "text/x-python",
   "name": "python",
   "nbconvert_exporter": "python",
   "pygments_lexer": "ipython3",
   "version": "3.11.9"
  }
 },
 "nbformat": 4,
 "nbformat_minor": 2
}
